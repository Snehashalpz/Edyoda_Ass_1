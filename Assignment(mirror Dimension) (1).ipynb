{
 "cells": [
  {
   "cell_type": "code",
   "execution_count": 3,
   "id": "3cff6cba",
   "metadata": {},
   "outputs": [
    {
     "name": "stdout",
     "output_type": "stream",
     "text": [
      "enter a string: Edyoda\n",
      "the mirror image of Edyoda is  adoydE\n"
     ]
    }
   ],
   "source": [
    "write a python program that accept a word from the user and reversed it\n",
    "\n",
    "\n",
    "str1= input(\"enter a string: \")\n",
    "str2 = \" \"\n",
    "index = -1\n",
    "\n",
    "for i in str1:\n",
    "    str2 += str1[index]\n",
    "    index -= 1\n",
    "print(\"the mirror image of\", str1, \"is\", str2)\n",
    "\n",
    "\n",
    "\n"
   ]
  },
  {
   "cell_type": "code",
   "execution_count": null,
   "id": "b48d28c5",
   "metadata": {},
   "outputs": [],
   "source": []
  }
 ],
 "metadata": {
  "kernelspec": {
   "display_name": "Python 3 (ipykernel)",
   "language": "python",
   "name": "python3"
  },
  "language_info": {
   "codemirror_mode": {
    "name": "ipython",
    "version": 3
   },
   "file_extension": ".py",
   "mimetype": "text/x-python",
   "name": "python",
   "nbconvert_exporter": "python",
   "pygments_lexer": "ipython3",
   "version": "3.10.9"
  }
 },
 "nbformat": 4,
 "nbformat_minor": 5
}
